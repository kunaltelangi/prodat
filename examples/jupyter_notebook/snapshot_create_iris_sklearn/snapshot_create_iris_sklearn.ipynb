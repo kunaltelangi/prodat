{
 "cells": [
  {
   "cell_type": "code",
   "execution_count": 1,
   "metadata": {},
   "outputs": [],
   "source": [
    "from sklearn import datasets\n",
    "from sklearn.linear_model import LogisticRegression\n",
    "from sklearn.model_selection import train_test_split\n",
    "import datmo"
   ]
  },
  {
   "cell_type": "code",
   "execution_count": 2,
   "metadata": {},
   "outputs": [],
   "source": [
    "# If you haven't yet initialized a Datmo project in this directory, uncomment the line below and run this cell, \n",
    "# or use `$ datmo init` in your terminal:\n",
    "# !datmo init"
   ]
  },
  {
   "cell_type": "code",
   "execution_count": 3,
   "metadata": {},
   "outputs": [],
   "source": [
    "config = { \"solver\": \"newton-cg\" } # extra line"
   ]
  },
  {
   "cell_type": "code",
   "execution_count": 4,
   "metadata": {},
   "outputs": [],
   "source": [
    "iris_dataset = datasets.load_iris()\n",
    "X, y = iris_dataset.data, iris_dataset.target\n",
    "X_train, X_test, y_train, y_test = train_test_split(X, y)"
   ]
  },
  {
   "cell_type": "code",
   "execution_count": 5,
   "metadata": {},
   "outputs": [],
   "source": [
    "model = LogisticRegression(**config).fit(X_train, y_train)"
   ]
  },
  {
   "cell_type": "code",
   "execution_count": 6,
   "metadata": {},
   "outputs": [
    {
     "name": "stdout",
     "output_type": "stream",
     "text": [
      "0.9285714285714286\n",
      "1.0\n"
     ]
    }
   ],
   "source": [
    "train_acc = model.score(X_train, y_train)\n",
    "test_acc = model.score(X_test, y_test)\n",
    "\n",
    "print(train_acc)\n",
    "print(test_acc)"
   ]
  },
  {
   "cell_type": "code",
   "execution_count": 7,
   "metadata": {},
   "outputs": [],
   "source": [
    "stats = { \"train_accuracy\": train_acc, \"test_accuracy\": test_acc } # extra line\n",
    "my_snapshot = datmo.snapshot.create(message=\"my first snapshot\", \n",
    "                      config=config, stats=stats) # extra line"
   ]
  },
  {
   "cell_type": "code",
   "execution_count": 8,
   "metadata": {},
   "outputs": [
    {
     "name": "stdout",
     "output_type": "stream",
     "text": [
      "{'_core_snapshot': <datmo.core.entity.snapshot.Snapshot object at 0x1a187b37b8>, '_home': '/Users/anandsampat/datmo/datmo/examples/jupyter_notebook/snapshot_create_iris_sklearn', 'id': '057a1bc47ab0685068cf1514420a6cedf7290075', 'model_id': 'eadafd60b4c93c56d6e3f84ee8ad729e907db825', 'session_id': 'ee76818b9390a24cb9a3da0cfee1acfb0ddea8a0', 'message': 'my first snapshot', 'code_id': 'bc473d6c75be1696ca30741c8b60d7aed769720f', 'environment_id': '43e1592b56aaa5dd931b4cc017754126cbbe6940', 'file_collection_id': '2f2d61b1b91630e7e2002ed5aafb8401f2ac4af5', 'config': {'solver': 'newton-cg'}, 'stats': {'train_accuracy': 0.9285714285714286, 'test_accuracy': 1.0}, 'task_id': None, 'label': None, 'created_at': datetime.datetime(2018, 5, 7, 15, 46, 51, 863165)}\n"
     ]
    }
   ],
   "source": [
    "print(my_snapshot.__dict__)"
   ]
  }
 ],
 "metadata": {
  "kernelspec": {
   "display_name": "Python 3",
   "language": "python",
   "name": "python3"
  },
  "language_info": {
   "codemirror_mode": {
    "name": "ipython",
    "version": 3
   },
   "file_extension": ".py",
   "mimetype": "text/x-python",
   "name": "python",
   "nbconvert_exporter": "python",
   "pygments_lexer": "ipython3",
   "version": "3.6.4"
  }
 },
 "nbformat": 4,
 "nbformat_minor": 2
}
